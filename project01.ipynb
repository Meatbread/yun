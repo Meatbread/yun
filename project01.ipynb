{
 "cells": [
  {
   "cell_type": "code",
   "execution_count": 150,
   "metadata": {},
   "outputs": [],
   "source": [
    "from sklearn.model_selection import train_test_split\n",
    "from sklearn.neighbors import KNeighborsClassifier\n",
    "from sklearn.preprocessing import LabelEncoder\n",
    "import pandas as pd\n"
   ]
  },
  {
   "cell_type": "code",
   "execution_count": 151,
   "metadata": {
    "scrolled": true
   },
   "outputs": [],
   "source": [
    "dataset = pd.read_csv('mlbfull.csv')"
   ]
  },
  {
   "cell_type": "code",
   "execution_count": 152,
   "metadata": {
    "scrolled": true
   },
   "outputs": [
    {
     "data": {
      "text/plain": [
       "Index(['playerid', 'version_date', 'name', 'age', 'team', 'lg', 'drc_warp',\n",
       "       'drc_plus', 'drc_sd', 'drc_raa', 'g', 'pa', 'ab', 'r', 'h', 'b1', 'b2',\n",
       "       'b3', 'hr', 'tb', 'bb', 'so', 'rbi', 'sb', 'cs', 'brr', 'avg', 'obp',\n",
       "       'slg', 'ops', 'fraa', 'ibb', 'hbp', 'sf', 'sh', 'dp', 'iso', 'pos'],\n",
       "      dtype='object')"
      ]
     },
     "execution_count": 152,
     "metadata": {},
     "output_type": "execute_result"
    }
   ],
   "source": [
    "dataset.keys()"
   ]
  },
  {
   "cell_type": "code",
   "execution_count": 153,
   "metadata": {},
   "outputs": [],
   "source": [
    "X,y = dataset[['age','drc_warp',\n",
    "       'drc_plus', 'drc_sd', 'drc_raa', 'g', 'pa', 'ab', 'r', 'h', 'b1', 'b2',\n",
    "       'b3', 'hr', 'tb', 'bb', 'so', 'rbi', 'sb', 'cs', 'brr', 'avg', 'obp',\n",
    "       'slg', 'ops', 'fraa', 'ibb', 'hbp', 'sf', 'sh', 'dp', 'iso']], dataset['pos']\n"
   ]
  },
  {
   "cell_type": "code",
   "execution_count": 154,
   "metadata": {},
   "outputs": [],
   "source": [
    "X_train, X_test, y_train, y_test = train_test_split(X,y, test_size= 0.2, random_state = 42)"
   ]
  },
  {
   "cell_type": "code",
   "execution_count": 155,
   "metadata": {},
   "outputs": [],
   "source": [
    "label = LabelEncoder()\n",
    "label = label.fit(y_train)\n",
    "y_train = label.transform(y_train)\n",
    "y_test = label.transform(y_test)"
   ]
  },
  {
   "cell_type": "code",
   "execution_count": 156,
   "metadata": {},
   "outputs": [
    {
     "name": "stdout",
     "output_type": "stream",
     "text": [
      "27.3 ms ± 703 µs per loop (mean ± std. dev. of 7 runs, 10 loops each)\n"
     ]
    }
   ],
   "source": [
    "clf1 = KNeighborsClassifier(n_neighbors=3)\n",
    "%timeit clf1.fit(X_train,y_train)"
   ]
  },
  {
   "cell_type": "code",
   "execution_count": 157,
   "metadata": {
    "scrolled": true
   },
   "outputs": [
    {
     "name": "stdout",
     "output_type": "stream",
     "text": [
      "[8 7 6 ... 2 2 8]\n",
      "[4 2 6 4 0 5 0 0 1 1 1 0 1 1 1 0 0 6 0 1 1 3 2 2 0 0 0 1 6 2 0 1 0 5 0 0 2\n",
      " 3 6 2 0 0 0 0 1 0 1 4 6 1 2 4 0 2 1 2 1 0 1 3 0 2 1 4 0 0 2 1 4 0 0 8 5 0\n",
      " 6 0 0 2 6 1 2 0 2 2 1 0 4 5 2 0 0 1 6 2 0 0 2 6 3 0 0 4 0 1 0 2 1 7 0 6 1\n",
      " 2 6 1 2 0 4 3 0 8 1 1 2 2 0 0 6 2 0 5 1 0 2 2 1 1 1 1 1 0 5 0 5 0 0 0 3 3\n",
      " 0 1 2 1 4 4 4 1 4 0 0 4 2 0 3 4 2 2 0 0 0 7 0 1 1 0 2 2 2 0 4 6 0 0 0 6 1\n",
      " 1 0]\n"
     ]
    }
   ],
   "source": [
    "y_test_hat1 = clf1.predict(X_test)\n",
    "print(y_test)\n",
    "print(y_test_hat)"
   ]
  },
  {
   "cell_type": "code",
   "execution_count": 158,
   "metadata": {},
   "outputs": [
    {
     "name": "stdout",
     "output_type": "stream",
     "text": [
      "train accuracy : 0.4122222222222222\n",
      "261 ms ± 27.2 ms per loop (mean ± std. dev. of 7 runs, 1 loop each)\n",
      "test accuracy : 0.1039691943127962\n"
     ]
    }
   ],
   "source": [
    "from sklearn.metrics import accuracy_score\n",
    "y_train_hat1 = clf1.predict(X_train)\n",
    "print('train accuracy :', accuracy_score(y_train, y_train_hat1))\n",
    "%timeit y_test_hat1 = clf1.predict(X_test)\n",
    "print('test accuracy :', accuracy_score(y_test, y_test_hat1))"
   ]
  },
  {
   "cell_type": "code",
   "execution_count": 159,
   "metadata": {},
   "outputs": [],
   "source": [
    "from sklearn.preprocessing import StandardScaler\n",
    "scaler = StandardScaler()\n",
    "scaler.fit(X_train)\n",
    "X_train_scaled = scaler.transform(X_train)\n",
    "X_test_scaled = scaler.transform(X_test)"
   ]
  },
  {
   "cell_type": "code",
   "execution_count": 166,
   "metadata": {},
   "outputs": [
    {
     "name": "stdout",
     "output_type": "stream",
     "text": [
      "16.4 s ± 78.8 ms per loop (mean ± std. dev. of 7 runs, 1 loop each)\n"
     ]
    }
   ],
   "source": [
    "from sklearn.svm import SVC\n",
    "clf2 = SVC(C=10)\n",
    "%timeit clf2.fit(X_train_scaled, y_train)\n"
   ]
  },
  {
   "cell_type": "code",
   "execution_count": 167,
   "metadata": {},
   "outputs": [
    {
     "name": "stdout",
     "output_type": "stream",
     "text": [
      "train accuracy : 0.09422222222222222\n",
      "3.99 s ± 10.8 ms per loop (mean ± std. dev. of 7 runs, 1 loop each)\n",
      "test accuracy : 0.0879739336492891\n"
     ]
    }
   ],
   "source": [
    "y_train_hat2 = clf2.predict(X_train)\n",
    "print('train accuracy :', accuracy_score(y_train, y_train_hat2))\n",
    "%timeit y_test_hat2 = clf2.predict(X_test)\n",
    "print('test accuracy :', accuracy_score(y_test, y_test_hat2))"
   ]
  },
  {
   "cell_type": "code",
   "execution_count": null,
   "metadata": {},
   "outputs": [],
   "source": []
  },
  {
   "cell_type": "code",
   "execution_count": null,
   "metadata": {},
   "outputs": [],
   "source": []
  }
 ],
 "metadata": {
  "kernelspec": {
   "display_name": "Python 3",
   "language": "python",
   "name": "python3"
  },
  "language_info": {
   "codemirror_mode": {
    "name": "ipython",
    "version": 3
   },
   "file_extension": ".py",
   "mimetype": "text/x-python",
   "name": "python",
   "nbconvert_exporter": "python",
   "pygments_lexer": "ipython3",
   "version": "3.7.3"
  }
 },
 "nbformat": 4,
 "nbformat_minor": 2
}
