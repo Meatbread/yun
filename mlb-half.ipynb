{
 "cells": [
  {
   "cell_type": "code",
   "execution_count": 21,
   "metadata": {},
   "outputs": [],
   "source": [
    "from sklearn.model_selection import train_test_split\n",
    "from sklearn.neighbors import KNeighborsClassifier\n",
    "from sklearn.preprocessing import LabelEncoder\n",
    "import timeit\n",
    "import pandas as pd\n"
   ]
  },
  {
   "cell_type": "code",
   "execution_count": 22,
   "metadata": {
    "scrolled": true
   },
   "outputs": [],
   "source": [
    "dataset = pd.read_csv('mlbhalf.csv')"
   ]
  },
  {
   "cell_type": "code",
   "execution_count": 23,
   "metadata": {
    "scrolled": true
   },
   "outputs": [
    {
     "data": {
      "text/plain": [
       "Index(['playerid', 'version_date', 'name', 'age', 'team', 'lg', 'drc_warp',\n",
       "       'drc_plus', 'drc_sd', 'drc_raa', 'g', 'pa', 'ab', 'r', 'h', 'b1', 'b2',\n",
       "       'b3', 'hr', 'tb', 'bb', 'so', 'rbi', 'sb', 'cs', 'brr', 'avg', 'obp',\n",
       "       'slg', 'ops', 'fraa', 'ibb', 'hbp', 'sf', 'sh', 'dp', 'iso', 'pos'],\n",
       "      dtype='object')"
      ]
     },
     "execution_count": 23,
     "metadata": {},
     "output_type": "execute_result"
    }
   ],
   "source": [
    "dataset.keys()"
   ]
  },
  {
   "cell_type": "code",
   "execution_count": 24,
   "metadata": {},
   "outputs": [],
   "source": [
    "X,y = dataset[['age','drc_warp',\n",
    "       'drc_plus', 'drc_sd', 'drc_raa', 'g', 'pa', 'ab', 'r', 'h', 'b1', 'b2',\n",
    "       'b3', 'hr', 'tb', 'bb', 'so', 'rbi', 'sb', 'cs', 'brr', 'avg', 'obp',\n",
    "       'slg', 'ops', 'fraa', 'ibb', 'hbp', 'sf', 'sh', 'dp', 'iso']], dataset['pos']\n"
   ]
  },
  {
   "cell_type": "code",
   "execution_count": 25,
   "metadata": {},
   "outputs": [],
   "source": [
    "X_train, X_test, y_train, y_test = train_test_split(X,y, test_size= 0.2, random_state = 42)"
   ]
  },
  {
   "cell_type": "code",
   "execution_count": 26,
   "metadata": {},
   "outputs": [],
   "source": [
    "label = LabelEncoder()\n",
    "label = label.fit(y_train)\n",
    "y_train = label.transform(y_train)\n",
    "y_test = label.transform(y_test)"
   ]
  },
  {
   "cell_type": "code",
   "execution_count": 27,
   "metadata": {},
   "outputs": [
    {
     "data": {
      "text/plain": [
       "KNeighborsClassifier(algorithm='auto', leaf_size=30, metric='minkowski',\n",
       "                     metric_params=None, n_jobs=None, n_neighbors=3, p=2,\n",
       "                     weights='uniform')"
      ]
     },
     "execution_count": 27,
     "metadata": {},
     "output_type": "execute_result"
    }
   ],
   "source": [
    "clf1 = KNeighborsClassifier(n_neighbors=3)\n",
    "trainT1 = %timeit -oq clf1.fit(X_train,y_train)\n",
    "clf1.fit(X_train,y_train)"
   ]
  },
  {
   "cell_type": "code",
   "execution_count": 28,
   "metadata": {
    "scrolled": true
   },
   "outputs": [],
   "source": [
    "y_test_hat1 = clf1.predict(X_test)"
   ]
  },
  {
   "cell_type": "code",
   "execution_count": 29,
   "metadata": {},
   "outputs": [],
   "source": [
    "from sklearn.metrics import accuracy_score\n",
    "testT1 = %timeit -oq y_test_hat1 = clf1.predict(X_test)\n"
   ]
  },
  {
   "cell_type": "code",
   "execution_count": 30,
   "metadata": {},
   "outputs": [],
   "source": [
    "from sklearn.preprocessing import StandardScaler\n",
    "scaler = StandardScaler()\n",
    "scaler.fit(X_train)\n",
    "X_train_scaled = scaler.transform(X_train)\n",
    "X_test_scaled = scaler.transform(X_test)"
   ]
  },
  {
   "cell_type": "code",
   "execution_count": 31,
   "metadata": {},
   "outputs": [],
   "source": [
    "from sklearn.svm import SVC\n",
    "clf2 = SVC(C=10)\n",
    "trainT2 = %timeit -oq clf2.fit(X_train_scaled, y_train)\n",
    "clf2.fit(X_train_scaled, y_train)\n",
    "testT2 = %timeit -oq y_test_hat2 = clf2.predict(X_test)\n",
    "y_test_hat2 = clf2.predict(X_test)"
   ]
  },
  {
   "cell_type": "code",
   "execution_count": 32,
   "metadata": {},
   "outputs": [
    {
     "name": "stdout",
     "output_type": "stream",
     "text": [
      "KNN 학습시간 : 0.0126 초\n",
      "KNN 분류시간 : 0.0978 초\n",
      "test accuracy : 0.09430707303047729\n",
      "서포트 벡터 학습시간 : 4.5496 초\n",
      "서포트 벡터 분류시간 : 1.0690 초\n",
      "test accuracy : 0.08625646923519265\n"
     ]
    }
   ],
   "source": [
    "print(\"KNN 학습시간 : %0.4f 초\"%(trainT1.average))\n",
    "print(\"KNN 분류시간 : %0.4f 초\"%(testT1.average))\n",
    "print('test accuracy :', accuracy_score(y_test, y_test_hat1))\n",
    "print(\"서포트 벡터 학습시간 : %0.4f 초\"%(trainT2.average))\n",
    "print(\"서포트 벡터 분류시간 : %0.4f 초\"%(testT2.average))\n",
    "print('test accuracy :', accuracy_score(y_test, y_test_hat2))"
   ]
  },
  {
   "cell_type": "code",
   "execution_count": null,
   "metadata": {},
   "outputs": [],
   "source": []
  }
 ],
 "metadata": {
  "kernelspec": {
   "display_name": "Python 3",
   "language": "python",
   "name": "python3"
  },
  "language_info": {
   "codemirror_mode": {
    "name": "ipython",
    "version": 3
   },
   "file_extension": ".py",
   "mimetype": "text/x-python",
   "name": "python",
   "nbconvert_exporter": "python",
   "pygments_lexer": "ipython3",
   "version": "3.7.3"
  }
 },
 "nbformat": 4,
 "nbformat_minor": 2
}
