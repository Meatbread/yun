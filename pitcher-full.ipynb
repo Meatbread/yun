{
 "cells": [
  {
   "cell_type": "code",
   "execution_count": 1,
   "metadata": {},
   "outputs": [
    {
     "name": "stderr",
     "output_type": "stream",
     "text": [
      "C:\\Users\\ymjyj\\Anaconda3\\lib\\site-packages\\sklearn\\externals\\six.py:31: DeprecationWarning: The module is deprecated in version 0.21 and will be removed in version 0.23 since we've dropped support for Python 2.7. Please rely on the official version of six (https://pypi.org/project/six/).\n",
      "  \"(https://pypi.org/project/six/).\", DeprecationWarning)\n",
      "C:\\Users\\ymjyj\\Anaconda3\\lib\\site-packages\\sklearn\\externals\\joblib\\__init__.py:15: DeprecationWarning: sklearn.externals.joblib is deprecated in 0.21 and will be removed in 0.23. Please import this functionality directly from joblib, which can be installed with: pip install joblib. If this warning is raised when loading pickled models, you may need to re-serialize those models with scikit-learn 0.21+.\n",
      "  warnings.warn(msg, category=DeprecationWarning)\n"
     ]
    }
   ],
   "source": [
    "from sklearn.model_selection import train_test_split\n",
    "from sklearn.svm import SVR\n",
    "from sklearn.metrics import mean_absolute_error, mean_squared_error, r2_score\n",
    "from sklearn.metrics import accuracy_score\n",
    "import pandas as pd\n",
    "import mglearn\n",
    "import numpy as np\n",
    "import timeit\n",
    "from warnings import simplefilter\n",
    "simplefilter(action='ignore', category=FutureWarning)"
   ]
  },
  {
   "cell_type": "code",
   "execution_count": 2,
   "metadata": {
    "scrolled": true
   },
   "outputs": [],
   "source": [
    "dataset = pd.read_csv('pitching-one.csv')\n",
    "dataset=dataset.dropna()"
   ]
  },
  {
   "cell_type": "code",
   "execution_count": 3,
   "metadata": {
    "scrolled": true
   },
   "outputs": [
    {
     "data": {
      "text/plain": [
       "Index(['playerid', 'version_date', 'name', 'age', 'team', 'dra_pwarp', 'dra',\n",
       "       'dra_sd', 'dra_minus', 'cfip', 'g', 'gs', 'pitches', 'ip', 'w', 'l',\n",
       "       'sv', 'bs', 'hd', 'pa', 'ab', 'r', 'er', 'h', 'b2', 'b3', 'hr', 'bb',\n",
       "       'so', 'fip', 'era', 'hbp', 'ip_start', 'ip_relief', 'salary'],\n",
       "      dtype='object')"
      ]
     },
     "execution_count": 3,
     "metadata": {},
     "output_type": "execute_result"
    }
   ],
   "source": [
    "dataset.keys()"
   ]
  },
  {
   "cell_type": "code",
   "execution_count": 65,
   "metadata": {},
   "outputs": [],
   "source": [
    "X,y = dataset[['age', 'dra_pwarp', 'dra',\n",
    "       'dra_sd', 'dra_minus', 'cfip', 'g', 'gs', 'pitches', 'ip', 'w', 'l',\n",
    "       'sv', 'bs', 'hd', 'pa', 'ab', 'r', 'er', 'h', 'b2', 'b3', 'hr', 'bb',\n",
    "       'so', 'fip', 'era', 'hbp', 'ip_start', 'ip_relief']], dataset['salary']\n",
    "\n",
    "\n"
   ]
  },
  {
   "cell_type": "code",
   "execution_count": 66,
   "metadata": {},
   "outputs": [],
   "source": [
    "X_train, X_test, y_train, y_test = train_test_split(X,y, test_size= 0.2, random_state = 42)"
   ]
  },
  {
   "cell_type": "code",
   "execution_count": 67,
   "metadata": {},
   "outputs": [],
   "source": [
    "y_train = y_train.values.reshape(-1,1)\n",
    "y_test=y_test.values.reshape(-1,1)\n",
    "from sklearn.preprocessing import StandardScaler\n",
    "scalerX = StandardScaler()\n",
    "scalerX.fit(X_train)\n",
    "X_train_scaled=scalerX.transform(X_train)\n",
    "X_test_scaled = scalerX.transform(X_test)\n",
    "scalerY = StandardScaler()\n",
    "scalerY.fit(y_train)\n",
    "y_train_scaled=scalerY.transform(y_train)\n",
    "y_test_scaled = scalerY.transform(y_test)\n"
   ]
  },
  {
   "cell_type": "code",
   "execution_count": 68,
   "metadata": {},
   "outputs": [],
   "source": [
    "reg = SVR()\n",
    "trainT1 = %timeit -oq reg.fit(X_train_scaled,y_train_scaled.ravel())\n",
    "reg.fit(X_train_scaled,y_train_scaled.ravel())\n",
    "y_train_hat_scaled = reg.predict(X_train_scaled)\n",
    "testT1 = %timeit -oq y_test_hat_scaled = reg.predict(X_test_scaled)\n",
    "y_test_hat_scaled = reg.predict(X_test_scaled)"
   ]
  },
  {
   "cell_type": "code",
   "execution_count": 69,
   "metadata": {
    "scrolled": true
   },
   "outputs": [],
   "source": [
    "y_test_hat = scalerY.inverse_transform(y_test_hat_scaled)\n"
   ]
  },
  {
   "cell_type": "code",
   "execution_count": 70,
   "metadata": {},
   "outputs": [
    {
     "data": {
      "text/plain": [
       "LogisticRegression(C=1.0, class_weight=None, dual=False, fit_intercept=True,\n",
       "                   intercept_scaling=1, l1_ratio=None, max_iter=100,\n",
       "                   multi_class='warn', n_jobs=None, penalty='l2',\n",
       "                   random_state=None, solver='warn', tol=0.0001, verbose=0,\n",
       "                   warm_start=False)"
      ]
     },
     "execution_count": 70,
     "metadata": {},
     "output_type": "execute_result"
    }
   ],
   "source": [
    "from sklearn.linear_model import LogisticRegression\n",
    "reg2 = LogisticRegression()\n",
    "trainT2 = %timeit -oq reg2.fit(X_train, y_train.ravel())\n",
    "reg2.fit(X_train, y_train.ravel())"
   ]
  },
  {
   "cell_type": "code",
   "execution_count": 77,
   "metadata": {},
   "outputs": [],
   "source": [
    "testT2 = %timeit -oq y_test_hat_2 = reg2.predict(X_test)\n",
    "y_test_hat_2 = reg2.predict(X_test)"
   ]
  },
  {
   "cell_type": "code",
   "execution_count": 78,
   "metadata": {
    "scrolled": true
   },
   "outputs": [
    {
     "name": "stdout",
     "output_type": "stream",
     "text": [
      "서포트 벡터 학습시간 : 0.0063 초\n",
      "서포트 벡터 분류시간 : 0.0008 초\n",
      "test R_square :  0.40675416140990606\n",
      "로지스틱 회귀 학습시간 : 0.4014 초\n",
      "로지스틱 회귀 분류시간 : 0.0006 초\n",
      "test accuracy : 0.02564102564102564\n"
     ]
    }
   ],
   "source": [
    "print(\"서포트 벡터 학습시간 : %0.4f 초\"%(trainT1.average))\n",
    "print(\"서포트 벡터 분류시간 : %0.4f 초\"%(testT1.average))\n",
    "print('test R_square : ', r2_score(y_test,y_test_hat))\n",
    "print(\"로지스틱 회귀 학습시간 : %0.4f 초\"%(trainT2.average))\n",
    "print(\"로지스틱 회귀 분류시간 : %0.4f 초\"%(testT2.average))\n",
    "print('test accuracy :', accuracy_score(y_test, y_test_hat_2))"
   ]
  },
  {
   "cell_type": "code",
   "execution_count": null,
   "metadata": {},
   "outputs": [],
   "source": []
  }
 ],
 "metadata": {
  "kernelspec": {
   "display_name": "Python 3",
   "language": "python",
   "name": "python3"
  },
  "language_info": {
   "codemirror_mode": {
    "name": "ipython",
    "version": 3
   },
   "file_extension": ".py",
   "mimetype": "text/x-python",
   "name": "python",
   "nbconvert_exporter": "python",
   "pygments_lexer": "ipython3",
   "version": "3.7.3"
  }
 },
 "nbformat": 4,
 "nbformat_minor": 2
}
